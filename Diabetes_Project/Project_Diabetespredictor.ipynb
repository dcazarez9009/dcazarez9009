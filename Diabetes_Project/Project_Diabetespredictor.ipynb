{
  "cells": [
    {
      "cell_type": "markdown",
      "metadata": {
        "id": "RNjd7y4AVyLA"
      },
      "source": [
        "Importing the Dependencies"
      ]
    },
    {
      "cell_type": "code",
      "execution_count": 27,
      "metadata": {
        "id": "A3t3rPQqVlBN"
      },
      "outputs": [],
      "source": [
        "import numpy as np\n",
        "import pandas as pd\n",
        "from sklearn.preprocessing import StandardScaler\n",
        "from sklearn.model_selection import train_test_split\n",
        "from sklearn import svm\n",
        "from sklearn.metrics import accuracy_score\n",
        "import os"
      ]
    },
    {
      "cell_type": "markdown",
      "metadata": {
        "id": "Ofp7zZ_fXaJj"
      },
      "source": [
        "Data Collection and Analysis\n",
        "\n",
        "PIMA Diabetes Dataset"
      ]
    },
    {
      "cell_type": "code",
      "execution_count": 28,
      "metadata": {
        "id": "tKMBRFNGWh-H"
      },
      "outputs": [],
      "source": [
        "# loading the diabetes dataset to a pandas DataFrame\n",
        "diabetes_dataset = pd.read_csv('/Users/danielcazarez/Desktop/passionproject/diabetes.csv')\n"
      ]
    },
    {
      "cell_type": "code",
      "execution_count": null,
      "metadata": {
        "id": "OnpS0gPoZ_R8"
      },
      "outputs": [],
      "source": [
        "pd.read_csv?\n"
      ]
    },
    {
      "cell_type": "code",
      "execution_count": null,
      "metadata": {
        "colab": {
          "base_uri": "https://localhost:8080/",
          "height": 204
        },
        "id": "_7hPSEEfcH5G",
        "outputId": "9d382d02-8ca3-4fc5-d033-b8141ee020c6"
      },
      "outputs": [],
      "source": [
        "# printing the first 5 rows of the dataset\n",
        "diabetes_dataset.head()"
      ]
    },
    {
      "cell_type": "code",
      "execution_count": null,
      "metadata": {
        "colab": {
          "base_uri": "https://localhost:8080/"
        },
        "id": "Bjmm9MMHdSHp",
        "outputId": "f4cdb8a5-3c09-46a0-9832-36b9b3449e13"
      },
      "outputs": [],
      "source": [
        "# number of rows and Columns in this dataset\n",
        "diabetes_dataset.shape"
      ]
    },
    {
      "cell_type": "code",
      "execution_count": null,
      "metadata": {
        "colab": {
          "base_uri": "https://localhost:8080/",
          "height": 297
        },
        "id": "_o1DLkUqd_jc",
        "outputId": "65ada371-df97-48a8-8f7b-04c9130ef1cd"
      },
      "outputs": [],
      "source": [
        "# getting the statistical measures of the data\n",
        "diabetes_dataset.describe()"
      ]
    },
    {
      "cell_type": "code",
      "execution_count": null,
      "metadata": {
        "colab": {
          "base_uri": "https://localhost:8080/",
          "height": 176
        },
        "id": "nFCvptltewjU",
        "outputId": "4f3fa3d7-d86f-445f-9292-cce0cf7987cd"
      },
      "outputs": [],
      "source": [
        "diabetes_dataset['Outcome'].value_counts()"
      ]
    },
    {
      "cell_type": "markdown",
      "metadata": {
        "id": "WV48F5fofgdv"
      },
      "source": [
        "0 --> Non-Diabetic\n",
        "\n",
        "1 --> Diabetes"
      ]
    },
    {
      "cell_type": "code",
      "execution_count": null,
      "metadata": {
        "colab": {
          "base_uri": "https://localhost:8080/",
          "height": 142
        },
        "id": "eHBJ9W7AfOcW",
        "outputId": "4e9ee9f8-fed3-41e2-9c25-be380576bf3c"
      },
      "outputs": [],
      "source": [
        "diabetes_dataset.groupby('Outcome').mean()"
      ]
    },
    {
      "cell_type": "code",
      "execution_count": 35,
      "metadata": {
        "id": "6NYoqNyLgqph"
      },
      "outputs": [],
      "source": [
        "# separating the data and labels\n",
        "X = diabetes_dataset.drop(columns = 'Outcome', axis=1)\n",
        "Y = diabetes_dataset['Outcome']"
      ]
    },
    {
      "cell_type": "code",
      "execution_count": null,
      "metadata": {
        "colab": {
          "base_uri": "https://localhost:8080/"
        },
        "id": "LZrJtwrYh_Ne",
        "outputId": "49faa58b-d907-4e0c-ca17-1faae4fd3006"
      },
      "outputs": [],
      "source": [
        "print(X)"
      ]
    },
    {
      "cell_type": "code",
      "execution_count": null,
      "metadata": {
        "colab": {
          "base_uri": "https://localhost:8080/"
        },
        "id": "NQ15tAdgiTz9",
        "outputId": "c44b2e0b-116e-4dc9-f79d-8237bdbc68e2"
      },
      "outputs": [],
      "source": [
        "print(Y)"
      ]
    },
    {
      "cell_type": "markdown",
      "metadata": {
        "id": "6TYDEqW0ihni"
      },
      "source": [
        "Data Standardization\n"
      ]
    },
    {
      "cell_type": "code",
      "execution_count": 38,
      "metadata": {
        "id": "edyLifRBiqUX"
      },
      "outputs": [],
      "source": [
        "scaler = StandardScaler()"
      ]
    },
    {
      "cell_type": "code",
      "execution_count": null,
      "metadata": {
        "colab": {
          "base_uri": "https://localhost:8080/",
          "height": 80
        },
        "id": "1nKoiHRcjKp1",
        "outputId": "e05b98a4-f6c7-4c8f-d8b6-508d0e51ed7a"
      },
      "outputs": [],
      "source": [
        "scaler.fit(X)"
      ]
    },
    {
      "cell_type": "code",
      "execution_count": 40,
      "metadata": {
        "id": "xOjKYc7Ejd5W"
      },
      "outputs": [],
      "source": [
        "standarized_data = scaler.transform(X)"
      ]
    },
    {
      "cell_type": "code",
      "execution_count": null,
      "metadata": {
        "colab": {
          "base_uri": "https://localhost:8080/"
        },
        "id": "wLQDbpHRkCr_",
        "outputId": "c30bfec6-5139-41f7-a2f2-27c4f40c369c"
      },
      "outputs": [],
      "source": [
        "print(standarized_data)"
      ]
    },
    {
      "cell_type": "code",
      "execution_count": 42,
      "metadata": {
        "id": "rQZ73CSukSui"
      },
      "outputs": [],
      "source": [
        "X = standarized_data\n",
        "Y = diabetes_dataset['Outcome']"
      ]
    },
    {
      "cell_type": "code",
      "execution_count": null,
      "metadata": {
        "colab": {
          "base_uri": "https://localhost:8080/"
        },
        "id": "Edjw19U_kuxU",
        "outputId": "a58194c2-135c-4200-ed52-e8dbd21075c8"
      },
      "outputs": [],
      "source": [
        "print(X)\n",
        "print(Y)"
      ]
    },
    {
      "cell_type": "markdown",
      "metadata": {
        "id": "zXo2bZ6JlAoE"
      },
      "source": [
        "Train Test Split\n"
      ]
    },
    {
      "cell_type": "code",
      "execution_count": 44,
      "metadata": {
        "id": "_JuW_iT_lFZ-"
      },
      "outputs": [],
      "source": [
        "X_train, X_test, Y_train, Y_test = train_test_split(X,Y, test_size = 0.2, stratify=Y,random_state=2)"
      ]
    },
    {
      "cell_type": "code",
      "execution_count": null,
      "metadata": {
        "colab": {
          "base_uri": "https://localhost:8080/"
        },
        "id": "UNw_NZNmnQmU",
        "outputId": "29a22979-440f-4230-9bd8-16c4e9be41e6"
      },
      "outputs": [],
      "source": [
        "print(X.shape, X_train.shape, X_test.shape)"
      ]
    },
    {
      "cell_type": "markdown",
      "metadata": {
        "id": "_d0P3Z6yno8V"
      },
      "source": [
        "Training the Model"
      ]
    },
    {
      "cell_type": "code",
      "execution_count": 46,
      "metadata": {
        "id": "hNmDocB7ntaR"
      },
      "outputs": [],
      "source": [
        "classifier = svm.SVC(kernel = 'linear')"
      ]
    },
    {
      "cell_type": "code",
      "execution_count": null,
      "metadata": {
        "colab": {
          "base_uri": "https://localhost:8080/",
          "height": 80
        },
        "id": "66AKvoeWSupn",
        "outputId": "c72fad91-a3d8-4c1c-f5a3-d9c3700e7db0"
      },
      "outputs": [],
      "source": [
        "# training the support vector Machine Classifier\n",
        "classifier.fit(X_train, Y_train)"
      ]
    },
    {
      "cell_type": "markdown",
      "metadata": {
        "id": "3_sL_dzHTfhZ"
      },
      "source": [
        "Model Evaluation\n",
        "\n",
        "Accuracy Score"
      ]
    },
    {
      "cell_type": "code",
      "execution_count": 48,
      "metadata": {
        "id": "ws1j532HToLT"
      },
      "outputs": [],
      "source": [
        "# accuracy score on the training data\n",
        "X_train_prediction = classifier.predict(X_train)\n",
        "training_data_accuracy = accuracy_score(X_train_prediction, Y_train)"
      ]
    },
    {
      "cell_type": "code",
      "execution_count": null,
      "metadata": {
        "colab": {
          "base_uri": "https://localhost:8080/"
        },
        "id": "GdwGuFc6U6-y",
        "outputId": "679d016b-92f9-47b0-bdaa-b530dd863c7e"
      },
      "outputs": [],
      "source": [
        "# accuracy score on the training data\n",
        "from sklearn.metrics import accuracy_score\n",
        "\n",
        "# Assuming 'classifier' is already defined and trained\n",
        "X_train_prediction = classifier.predict(X_train)\n",
        "training_data_accuracy = accuracy_score(X_train_prediction, Y_train)\n",
        "\n",
        "# Print the accuracy score\n",
        "print('Accuracy score of the training data:', training_data_accuracy)"
      ]
    },
    {
      "cell_type": "code",
      "execution_count": 50,
      "metadata": {
        "id": "jOUD4zafWuoZ"
      },
      "outputs": [],
      "source": [
        "# accuracy score on the test data\n",
        "X_test_prediction = classifier.predict(X_test)\n",
        "test_data_accuracy = accuracy_score(X_test_prediction, Y_test)\n"
      ]
    },
    {
      "cell_type": "code",
      "execution_count": null,
      "metadata": {
        "colab": {
          "base_uri": "https://localhost:8080/"
        },
        "id": "4QZ3RKyxXazG",
        "outputId": "26c1b46d-a7f8-4869-d7a5-ee68b70d0a6d"
      },
      "outputs": [],
      "source": [
        "print ('Accuracy score of the test data :', test_data_accuracy)"
      ]
    },
    {
      "cell_type": "markdown",
      "metadata": {
        "id": "iZeg7KL3YW0P"
      },
      "source": [
        "Making a Predictive System"
      ]
    },
    {
      "cell_type": "code",
      "execution_count": null,
      "metadata": {
        "colab": {
          "base_uri": "https://localhost:8080/"
        },
        "id": "ebuVzNzkYjax",
        "outputId": "02e538fd-5eb5-4242-e50b-0843cdd54a1c"
      },
      "outputs": [],
      "source": [
        "import numpy as np\n",
        "\n",
        "# Assuming 'scaler' and 'classifier' are already defined and trained\n",
        "\n",
        "input_data = (1, 90, 75, 20, 85 ,22, 0.2, 25)\n",
        "\n",
        "# Convert input data to numpy array and reshape for prediction\n",
        "input_data_as_numpy_array = np.asarray(input_data)\n",
        "input_data_reshaped = input_data_as_numpy_array.reshape(1, -1)\n",
        "\n",
        "# Standardize the input data using the previously fitted scaler\n",
        "std_data = scaler.transform(input_data_reshaped)\n",
        "\n",
        "# Predict using the classifier\n",
        "prediction = classifier.predict(std_data)\n",
        "\n",
        "# Print prediction\n",
        "if prediction[0] == 0:\n",
        "    print('The person is not diabetic')\n",
        "else:\n",
        "    print('The person is diabetic')\n"
      ]
    },
    {
      "cell_type": "markdown",
      "metadata": {
        "id": "yqKONjhemYZ3"
      },
      "source": []
    },
    {
      "cell_type": "markdown",
      "metadata": {
        "id": "-M_z-HU2Wxhd"
      },
      "source": [
        "--> Additional notes\n",
        "1. Pregnancies (Number of times Pregnant)\n",
        "2. Glucose: Plasma glucose concentration a 2 hours in an oral glucose test\n",
        "   Unit: mg/dl (milligrams per deciliter)\n",
        "3. Blood Pressure: Diastiolic blood pressure (mm Hg)\n",
        "4. Skin Thickness: Triceps skinfold thickness (mm)\n",
        "5. Insulin: 2 hour serum insulin (mu U/ml)\n",
        "6. BMI: (Body Mass Index) (weight in kg/(height in m)^2). (Integer)\n",
        "7. Diabetes pedigree function: (function scores likely hood of diabetes based on family history)\n",
        "8. Age: Age of indivitual\n"
      ]
    }
  ],
  "metadata": {
    "colab": {
      "provenance": []
    },
    "kernelspec": {
      "display_name": "Python 3",
      "name": "python3"
    },
    "language_info": {
      "codemirror_mode": {
        "name": "ipython",
        "version": 3
      },
      "file_extension": ".py",
      "mimetype": "text/x-python",
      "name": "python",
      "nbconvert_exporter": "python",
      "pygments_lexer": "ipython3",
      "version": "3.9.6"
    }
  },
  "nbformat": 4,
  "nbformat_minor": 0
}
